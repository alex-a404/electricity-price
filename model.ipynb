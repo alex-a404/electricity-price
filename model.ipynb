{
 "cells": [
  {
   "cell_type": "code",
   "id": "initial_id",
   "metadata": {
    "collapsed": true,
    "ExecuteTime": {
     "end_time": "2025-02-01T22:18:17.695471Z",
     "start_time": "2025-02-01T22:18:16.840865Z"
    }
   },
   "source": [
    "import pandas as pd\n",
    "import matplotlib.pyplot as plt\n",
    "from datetime import datetime\n",
    "from matplotlib import figure\n",
    "from sklearn.metrics import mean_absolute_error\n",
    "from sklearn.model_selection import GridSearchCV\n",
    "from sklearnex import patch_sklearn\n",
    "from sklearn.ensemble import RandomForestRegressor\n",
    "from sklearnex.model_selection import train_test_split\n",
    "from sklearn.preprocessing import StandardScaler\n",
    "import numpy as np\n",
    "import xgboost as xgb\n"
   ],
   "outputs": [],
   "execution_count": 4
  },
  {
   "metadata": {
    "ExecuteTime": {
     "end_time": "2025-02-01T22:18:19.924393Z",
     "start_time": "2025-02-01T22:18:19.616906Z"
    }
   },
   "cell_type": "code",
   "source": [
    "def parser(x):\n",
    "\treturn pd.to_datetime(x, format='%Y-%m-%d')\n",
    "\n",
    "df = pd.read_excel('data/electricitypricesdataset300125.xlsx',sheet_name='Table 1 Daily',skiprows=28,parse_dates = [0],date_parser = parser)\n",
    "df.columns=['Date','Daily','Weekly']\n",
    "df = pd.read_excel('data/electricitypricesdataset300125.xlsx', sheet_name='Table 1 Daily',\n",
    "                   skiprows=28, parse_dates=[0], date_parser=parser)\n",
    "df.columns = ['Date', 'Daily', 'Weekly']\n",
    "df['Date'] = pd.to_datetime(df['Date'])  # Ensure 'Date' column is datetime\n",
    "\n",
    "def make_temp_df(year):\n",
    "    temps = pd.read_csv(f\"data/20{year}temps\", skiprows=3, sep=\"   \")\n",
    "    temps.columns = [\"Day\", \"01\", \"02\", \"03\", \"04\", \"05\", \"06\", \"07\", \"08\", \"09\", \"10\", \"11\", \"12\"]\n",
    "    temps = pd.melt(temps, id_vars=['Day'], var_name=\"Month\", value_name=\"Temp\")\n",
    "    temps[\"Date\"] = f'20{year}-' + temps[\"Month\"] + '-' + temps[\"Day\"].astype(str)\n",
    "    temps[\"Date\"] = pd.to_datetime(temps[\"Date\"], errors='coerce')\n",
    "    temps.dropna(subset=[\"Date\"], inplace=True)  # Drop rows with NaT in the 'Date' column\n",
    "    temps[\"Date\"] = temps[\"Date\"].dt.strftime('%Y-%m-%d')  # Ensure dates are in 'YYYY-MM-DD' format\n",
    "    temps.drop(\"Month\", axis=1, inplace=True)\n",
    "    temps.drop(\"Day\", axis=1, inplace=True)\n",
    "    temps[\"Date\"] = pd.to_datetime(temps[\"Date\"])  # Ensure 'Date' column is datetime\n",
    "    temps.set_index('Date', inplace=True)\n",
    "    return temps\n",
    "\n",
    "temps24 = make_temp_df(24)\n",
    "temps23 = make_temp_df(23)\n",
    "temps22 = make_temp_df(22)\n",
    "temps21 = make_temp_df(21)\n",
    "\n",
    "\n",
    "\n",
    "electricity_search = pd.read_csv(\"data/electricity_search.csv\",skiprows=1)\n",
    "\n",
    "electricity_search['Week'] = pd.to_datetime(electricity_search['Week'], format='%Y-%m-%d')\n",
    "\n",
    "full_date_range = pd.date_range(start=electricity_search['Week'].min(),end=electricity_search['Week'].max(),freq='D')\n",
    "\n",
    "electricity_search = electricity_search.set_index('Week').reindex(full_date_range).reset_index()\n",
    "electricity_search.columns = [\"Date\",\"electricity_price_search\"]\n",
    "\n",
    "electricity_search[\"Date\"] = pd.to_datetime(electricity_search[\"Date\"])  # Ensure 'Date' column is datetime\n",
    "electricity_search[\"electricity_price_search\"]= electricity_search[\"electricity_price_search\"].ffill()\n",
    "\n",
    "\n",
    "\n",
    "war = pd.read_csv(\"data/war.csv\",skiprows=1)\n",
    "war['Week'] = pd.to_datetime(war['Week'], format='%Y-%m-%d')\n",
    "war = war.set_index('Week').reindex(full_date_range).reset_index()\n",
    "war.columns = [\"Date\",\"war_search\"]\n",
    "war[\"war_search\"]= war[\"war_search\"].ffill()\n",
    "\n",
    "cold_winter = pd.read_csv(\"data/cold_winter.csv\",skiprows=1)\n",
    "cold_winter['Week'] = pd.to_datetime(cold_winter['Week'], format='%Y-%m-%d')\n",
    "cold_winter = cold_winter.set_index('Week').reindex(full_date_range).reset_index()\n",
    "cold_winter.columns = [\"Date\",\"cold_winter_search\"]\n",
    "cold_winter[\"cold_winter_search\"]= cold_winter[\"cold_winter_search\"].ffill()\n",
    "\n",
    "oil = pd.read_csv(\"data/oil.csv\",skiprows=1)\n",
    "oil['Week'] = pd.to_datetime(oil['Week'], format='%Y-%m-%d')\n",
    "oil = oil.set_index('Week').reindex(full_date_range).reset_index()\n",
    "oil.columns = [\"Date\",\"oil_search\"]\n",
    "oil[\"oil_search\"]= oil[\"oil_search\"].ffill()\n",
    "\n",
    "full_df = pd.merge(electricity_search, cold_winter ,on='Date').merge(war, on='Date').merge(df, on='Date').merge(oil, on='Date')\n",
    "\n",
    "temps_all = pd.concat([temps21, temps22, temps23, temps24], axis=0)\n",
    "temps_all['Temp'] = temps_all['Temp'].replace(99, np.nan)\n",
    "temps_all['Temp'] = temps_all['Temp'].ffill()\n",
    "\n",
    "\n",
    "\n",
    "full_df.set_index(\"Date\",inplace=True)\n",
    "full_df=pd.merge(full_df,temps_all,on=\"Date\")\n",
    "full_df.head(1000)\n"
   ],
   "id": "f4a8b51c4adcb9a2",
   "outputs": [
    {
     "name": "stderr",
     "output_type": "stream",
     "text": [
      "/tmp/ipykernel_6711/2667717533.py:4: FutureWarning: The argument 'date_parser' is deprecated and will be removed in a future version. Please use 'date_format' instead, or read your data in as 'object' dtype and then call 'to_datetime'.\n",
      "  df = pd.read_excel('data/electricitypricesdataset300125.xlsx',sheet_name='Table 1 Daily',skiprows=28,parse_dates = [0],date_parser = parser)\n",
      "/tmp/ipykernel_6711/2667717533.py:6: FutureWarning: The argument 'date_parser' is deprecated and will be removed in a future version. Please use 'date_format' instead, or read your data in as 'object' dtype and then call 'to_datetime'.\n",
      "  df = pd.read_excel('data/electricitypricesdataset300125.xlsx', sheet_name='Table 1 Daily',\n",
      "/tmp/ipykernel_6711/2667717533.py:12: ParserWarning: Falling back to the 'python' engine because the 'c' engine does not support regex separators (separators > 1 char and different from '\\s+' are interpreted as regex); you can avoid this warning by specifying engine='python'.\n",
      "  temps = pd.read_csv(f\"data/20{year}temps\", skiprows=3, sep=\"   \")\n",
      "/tmp/ipykernel_6711/2667717533.py:12: ParserWarning: Falling back to the 'python' engine because the 'c' engine does not support regex separators (separators > 1 char and different from '\\s+' are interpreted as regex); you can avoid this warning by specifying engine='python'.\n",
      "  temps = pd.read_csv(f\"data/20{year}temps\", skiprows=3, sep=\"   \")\n",
      "/tmp/ipykernel_6711/2667717533.py:12: ParserWarning: Falling back to the 'python' engine because the 'c' engine does not support regex separators (separators > 1 char and different from '\\s+' are interpreted as regex); you can avoid this warning by specifying engine='python'.\n",
      "  temps = pd.read_csv(f\"data/20{year}temps\", skiprows=3, sep=\"   \")\n",
      "/tmp/ipykernel_6711/2667717533.py:12: ParserWarning: Falling back to the 'python' engine because the 'c' engine does not support regex separators (separators > 1 char and different from '\\s+' are interpreted as regex); you can avoid this warning by specifying engine='python'.\n",
      "  temps = pd.read_csv(f\"data/20{year}temps\", skiprows=3, sep=\"   \")\n"
     ]
    },
    {
     "data": {
      "text/plain": [
       "            electricity_price_search  cold_winter_search  war_search  Daily  \\\n",
       "Date                                                                          \n",
       "2021-01-01                       9.0                25.0        36.0  6.332   \n",
       "2021-01-02                       9.0                25.0        36.0  6.287   \n",
       "2021-01-03                      13.0                34.0        34.0  5.517   \n",
       "2021-01-04                      13.0                34.0        34.0  6.302   \n",
       "2021-01-05                      13.0                34.0        34.0  6.874   \n",
       "...                              ...                 ...         ...    ...   \n",
       "2023-09-23                      22.0                19.0        27.0  7.754   \n",
       "2023-09-24                      23.0                16.0        27.0  0.210   \n",
       "2023-09-25                      23.0                16.0        27.0  2.572   \n",
       "2023-09-26                      23.0                16.0        27.0  9.219   \n",
       "2023-09-27                      23.0                16.0        27.0  9.548   \n",
       "\n",
       "            Weekly  oil_search  Temp  \n",
       "Date                                  \n",
       "2021-01-01   6.874        55.0   0.0  \n",
       "2021-01-02   7.422        55.0   0.6  \n",
       "2021-01-03   7.438        60.0   1.7  \n",
       "2021-01-04   6.810        60.0   2.6  \n",
       "2021-01-05   6.647        60.0   2.6  \n",
       "...            ...         ...   ...  \n",
       "2023-09-23   7.237        63.0  12.1  \n",
       "2023-09-24   5.920        62.0  15.2  \n",
       "2023-09-25   5.288        62.0  16.6  \n",
       "2023-09-26   5.841        62.0  15.7  \n",
       "2023-09-27   6.189        62.0  15.3  \n",
       "\n",
       "[1000 rows x 7 columns]"
      ],
      "text/html": [
       "<div>\n",
       "<style scoped>\n",
       "    .dataframe tbody tr th:only-of-type {\n",
       "        vertical-align: middle;\n",
       "    }\n",
       "\n",
       "    .dataframe tbody tr th {\n",
       "        vertical-align: top;\n",
       "    }\n",
       "\n",
       "    .dataframe thead th {\n",
       "        text-align: right;\n",
       "    }\n",
       "</style>\n",
       "<table border=\"1\" class=\"dataframe\">\n",
       "  <thead>\n",
       "    <tr style=\"text-align: right;\">\n",
       "      <th></th>\n",
       "      <th>electricity_price_search</th>\n",
       "      <th>cold_winter_search</th>\n",
       "      <th>war_search</th>\n",
       "      <th>Daily</th>\n",
       "      <th>Weekly</th>\n",
       "      <th>oil_search</th>\n",
       "      <th>Temp</th>\n",
       "    </tr>\n",
       "    <tr>\n",
       "      <th>Date</th>\n",
       "      <th></th>\n",
       "      <th></th>\n",
       "      <th></th>\n",
       "      <th></th>\n",
       "      <th></th>\n",
       "      <th></th>\n",
       "      <th></th>\n",
       "    </tr>\n",
       "  </thead>\n",
       "  <tbody>\n",
       "    <tr>\n",
       "      <th>2021-01-01</th>\n",
       "      <td>9.0</td>\n",
       "      <td>25.0</td>\n",
       "      <td>36.0</td>\n",
       "      <td>6.332</td>\n",
       "      <td>6.874</td>\n",
       "      <td>55.0</td>\n",
       "      <td>0.0</td>\n",
       "    </tr>\n",
       "    <tr>\n",
       "      <th>2021-01-02</th>\n",
       "      <td>9.0</td>\n",
       "      <td>25.0</td>\n",
       "      <td>36.0</td>\n",
       "      <td>6.287</td>\n",
       "      <td>7.422</td>\n",
       "      <td>55.0</td>\n",
       "      <td>0.6</td>\n",
       "    </tr>\n",
       "    <tr>\n",
       "      <th>2021-01-03</th>\n",
       "      <td>13.0</td>\n",
       "      <td>34.0</td>\n",
       "      <td>34.0</td>\n",
       "      <td>5.517</td>\n",
       "      <td>7.438</td>\n",
       "      <td>60.0</td>\n",
       "      <td>1.7</td>\n",
       "    </tr>\n",
       "    <tr>\n",
       "      <th>2021-01-04</th>\n",
       "      <td>13.0</td>\n",
       "      <td>34.0</td>\n",
       "      <td>34.0</td>\n",
       "      <td>6.302</td>\n",
       "      <td>6.810</td>\n",
       "      <td>60.0</td>\n",
       "      <td>2.6</td>\n",
       "    </tr>\n",
       "    <tr>\n",
       "      <th>2021-01-05</th>\n",
       "      <td>13.0</td>\n",
       "      <td>34.0</td>\n",
       "      <td>34.0</td>\n",
       "      <td>6.874</td>\n",
       "      <td>6.647</td>\n",
       "      <td>60.0</td>\n",
       "      <td>2.6</td>\n",
       "    </tr>\n",
       "    <tr>\n",
       "      <th>...</th>\n",
       "      <td>...</td>\n",
       "      <td>...</td>\n",
       "      <td>...</td>\n",
       "      <td>...</td>\n",
       "      <td>...</td>\n",
       "      <td>...</td>\n",
       "      <td>...</td>\n",
       "    </tr>\n",
       "    <tr>\n",
       "      <th>2023-09-23</th>\n",
       "      <td>22.0</td>\n",
       "      <td>19.0</td>\n",
       "      <td>27.0</td>\n",
       "      <td>7.754</td>\n",
       "      <td>7.237</td>\n",
       "      <td>63.0</td>\n",
       "      <td>12.1</td>\n",
       "    </tr>\n",
       "    <tr>\n",
       "      <th>2023-09-24</th>\n",
       "      <td>23.0</td>\n",
       "      <td>16.0</td>\n",
       "      <td>27.0</td>\n",
       "      <td>0.210</td>\n",
       "      <td>5.920</td>\n",
       "      <td>62.0</td>\n",
       "      <td>15.2</td>\n",
       "    </tr>\n",
       "    <tr>\n",
       "      <th>2023-09-25</th>\n",
       "      <td>23.0</td>\n",
       "      <td>16.0</td>\n",
       "      <td>27.0</td>\n",
       "      <td>2.572</td>\n",
       "      <td>5.288</td>\n",
       "      <td>62.0</td>\n",
       "      <td>16.6</td>\n",
       "    </tr>\n",
       "    <tr>\n",
       "      <th>2023-09-26</th>\n",
       "      <td>23.0</td>\n",
       "      <td>16.0</td>\n",
       "      <td>27.0</td>\n",
       "      <td>9.219</td>\n",
       "      <td>5.841</td>\n",
       "      <td>62.0</td>\n",
       "      <td>15.7</td>\n",
       "    </tr>\n",
       "    <tr>\n",
       "      <th>2023-09-27</th>\n",
       "      <td>23.0</td>\n",
       "      <td>16.0</td>\n",
       "      <td>27.0</td>\n",
       "      <td>9.548</td>\n",
       "      <td>6.189</td>\n",
       "      <td>62.0</td>\n",
       "      <td>15.3</td>\n",
       "    </tr>\n",
       "  </tbody>\n",
       "</table>\n",
       "<p>1000 rows × 7 columns</p>\n",
       "</div>"
      ]
     },
     "execution_count": 5,
     "metadata": {},
     "output_type": "execute_result"
    }
   ],
   "execution_count": 5
  },
  {
   "metadata": {},
   "cell_type": "code",
   "outputs": [],
   "execution_count": null,
   "source": "",
   "id": "fa2d77ffce024b"
  },
  {
   "metadata": {
    "ExecuteTime": {
     "end_time": "2025-02-01T22:19:37.771671Z",
     "start_time": "2025-02-01T22:18:45.813571Z"
    }
   },
   "cell_type": "code",
   "source": [
    "patch_sklearn()\n",
    "X = full_df[[\"war_search\",\"electricity_price_search\",\"cold_winter_search\",\"Temp\"]]\n",
    "y = full_df[\"Daily\"]\n",
    "X_train, X_test, y_train, y_test = train_test_split(X,y,test_size=0.2,shuffle=False)\n",
    "\n",
    "param_grid = {\n",
    "    'max_depth':[5,7,9,11],\n",
    "    'subsample': [0.8,0.9,1.0]\n",
    "}\n",
    "xgb_model = xgb.XGBRegressor(objective='reg:squarederror',\n",
    "                            n_estimators=10000,\n",
    "                            max_depth=7,\n",
    "                            learning_rate=0.0001,\n",
    "                            )\n",
    "xgb_model.fit(X_train,y_train)\n",
    "y_pred = xgb_model.predict(X_test)\n",
    "mae = mean_absolute_error(y_test, y_pred)\n",
    "rmse = np.sqrt(mean_absolute_error(y_test, y_pred))\n",
    "y_test = y_test.to_numpy()\n",
    "print(\"RMSE\",rmse)\n",
    "print(\"MAE\",mae)"
   ],
   "id": "c4015022b76614c3",
   "outputs": [
    {
     "name": "stderr",
     "output_type": "stream",
     "text": [
      "Intel(R) Extension for Scikit-learn* enabled (https://github.com/intel/scikit-learn-intelex)\n"
     ]
    },
    {
     "name": "stdout",
     "output_type": "stream",
     "text": [
      "RMSE 1.7332747414164247\n",
      "MAE 3.004241329232174\n"
     ]
    }
   ],
   "execution_count": 7
  },
  {
   "metadata": {
    "ExecuteTime": {
     "end_time": "2025-02-01T22:20:23.844222Z",
     "start_time": "2025-02-01T22:20:23.838916Z"
    }
   },
   "cell_type": "code",
   "source": [
    "n= 35\n",
    "print(y_test[n],y_pred[n])"
   ],
   "id": "d0a3e5f7f88a084e",
   "outputs": [
    {
     "name": "stdout",
     "output_type": "stream",
     "text": [
      "5.611 8.948343\n"
     ]
    }
   ],
   "execution_count": 14
  },
  {
   "metadata": {
    "ExecuteTime": {
     "end_time": "2025-02-01T15:21:49.618194Z",
     "start_time": "2025-02-01T15:21:49.500574Z"
    }
   },
   "cell_type": "code",
   "source": "plt.plot(full_df.reset_index(inplace=False)[\"Date\"],full_df['Daily'])",
   "id": "a76f087218ec9eaf",
   "outputs": [
    {
     "data": {
      "text/plain": [
       "[<matplotlib.lines.Line2D at 0x7ca7519e60e0>]"
      ]
     },
     "execution_count": 534,
     "metadata": {},
     "output_type": "execute_result"
    },
    {
     "data": {
      "text/plain": [
       "<Figure size 640x480 with 1 Axes>"
      ],
      "image/png": "[encoded data removed]"
     },
     "metadata": {},
     "output_type": "display_data"
    }
   ],
   "execution_count": 534
  }
 ],
 "metadata": {
  "kernelspec": {
   "display_name": "Python 3",
   "language": "python",
   "name": "python3"
  },
  "language_info": {
   "codemirror_mode": {
    "name": "ipython",
    "version": 2
   },
   "file_extension": ".py",
   "mimetype": "text/x-python",
   "name": "python",
   "nbconvert_exporter": "python",
   "pygments_lexer": "ipython2",
   "version": "2.7.6"
  }
 },
 "nbformat": 4,
 "nbformat_minor": 5
}
